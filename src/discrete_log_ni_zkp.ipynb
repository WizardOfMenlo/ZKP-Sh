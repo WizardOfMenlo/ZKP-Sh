{
 "cells": [
  {
   "cell_type": "code",
   "execution_count": 17,
   "metadata": {},
   "outputs": [],
   "source": [
    "bits = 128\n",
    "\n",
    "def safe_prime(nbits):\n",
    "    while True:\n",
    "        p = random_prime(2^nbits-1, false, 2^(nbits-1))\n",
    "        if ZZ((p+1)/2).is_prime():\n",
    "            return p\n",
    "        \n",
    "import hashlib\n",
    "from sage.crypto.util import ascii_to_bin\n",
    "\n",
    "def H(*args):\n",
    "    hs = hashlib.sha1()\n",
    "    for a in args:\n",
    "        hs.update(str(a))\n",
    "    return hs.hexdigest()\n",
    "\n",
    "def hash_to_int(hs):\n",
    "    return ZZ('0x' + hs)\n",
    "        \n",
    "N = safe_prime(bits)\n",
    "F = FiniteField(N)\n",
    "g = F.multiplicative_generator()"
   ]
  },
  {
   "cell_type": "code",
   "execution_count": 18,
   "metadata": {},
   "outputs": [
    {
     "data": {
      "text/plain": [
       "(173162351071529514013089054770911251175,\n",
       " 35929572418933399026240410352837606987453038012844725594428047872390320041831904447999)"
      ]
     },
     "execution_count": 18,
     "metadata": {},
     "output_type": "execute_result"
    }
   ],
   "source": [
    "x = randint(1, N - 1)\n",
    "beta = g^x\n",
    "r = randint(1, N - 1)\n",
    "gamma = g^r\n",
    "b_prover = hash_to_int(H(g, beta, gamma))\n",
    "y = r + b * x\n",
    "\n",
    "(gamma, y)"
   ]
  },
  {
   "cell_type": "code",
   "execution_count": 19,
   "metadata": {},
   "outputs": [
    {
     "data": {
      "text/plain": [
       "True"
      ]
     },
     "execution_count": 19,
     "metadata": {},
     "output_type": "execute_result"
    }
   ],
   "source": [
    "b_verifier = hash_to_int(H(g, beta, gamma))\n",
    "g^y == gamma * beta^b"
   ]
  }
 ],
 "metadata": {
  "kernelspec": {
   "display_name": "SageMath 8.9",
   "language": "sage",
   "name": "sagemath"
  },
  "language_info": {
   "codemirror_mode": {
    "name": "ipython",
    "version": 2
   },
   "file_extension": ".py",
   "mimetype": "text/x-python",
   "name": "python",
   "nbconvert_exporter": "python",
   "pygments_lexer": "ipython2",
   "version": "2.7.15"
  }
 },
 "nbformat": 4,
 "nbformat_minor": 2
}
