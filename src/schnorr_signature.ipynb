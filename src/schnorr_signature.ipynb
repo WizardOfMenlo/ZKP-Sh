{
 "cells": [
  {
   "cell_type": "markdown",
   "metadata": {},
   "source": [
    "# Schnorr Signature\n",
    "We now present a simple implementation for Schnoor Signatures. These are a way to digitally sign a message, proving that it has not been tampered with. It is an extended version of the discrete log proofs that we showed before. \n",
    "First of all, we assume that the participants agreed on a $\\mathbb{GF}(N)$ field, where $N$ is a safe prime of the form $2p + 1$ where $p$ is prime. Also the parties must have agreed on a primitive root of $N$, say $g$. We assume that the prover has a private key $x$ and a public key $\\beta = g^x$. Then, to sign a message $M$, the protocol is as follows:\n",
    "1. The prover chooses a random $r$, and computes $\\gamma = g^r$. It then computes $e \\equiv H(\\gamma || M)$ and $y \\equiv r - ex$. The signature is not the pair $(e, y)$\n",
    "2. The verifier (or anyone else) can verify the message by computing $\\gamma' = g^y \\beta^e$, and then verifying that $e = H(\\gamma' || M)$  \n",
    "\n",
    "As always, we start by selecting our common parameters"
   ]
  },
  {
   "cell_type": "code",
   "execution_count": 6,
   "metadata": {},
   "outputs": [],
   "source": [
    "bits = 128\n",
    "t = 10\n",
    "\n",
    "def safe_prime(nbits):\n",
    "    while True:\n",
    "        p = random_prime(2^nbits-1, false, 2^(nbits-1))\n",
    "        if ZZ((p+1)/2).is_prime():\n",
    "            return p\n",
    "        \n",
    "import hashlib\n",
    "from sage.crypto.util import ascii_to_bin\n",
    "\n",
    "def H(*args):\n",
    "    hs = hashlib.sha1()\n",
    "    for a in args:\n",
    "        hs.update(str(a))\n",
    "    return hs.hexdigest()\n",
    "\n",
    "def hash_to_int(hs):\n",
    "    return ZZ('0x' + hs) % 2^t\n",
    "        \n",
    "N = safe_prime(bits)\n",
    "F = FiniteField(N)\n",
    "g = F.multiplicative_generator()"
   ]
  },
  {
   "cell_type": "markdown",
   "metadata": {},
   "source": [
    "First, we set the private and public key of the prover. Again, $x$ is considered private"
   ]
  },
  {
   "cell_type": "code",
   "execution_count": 7,
   "metadata": {},
   "outputs": [
    {
     "data": {
      "text/plain": [
       "(518, -79495475519976319670810223090308003215876)"
      ]
     },
     "execution_count": 7,
     "metadata": {},
     "output_type": "execute_result"
    }
   ],
   "source": [
    "x = randint(1, N - 1)\n",
    "beta = g^x\n",
    "beta"
   ]
  },
  {
   "cell_type": "markdown",
   "metadata": {},
   "source": [
    "Now, suppose we want to sign the message \"Hello there\". We follow the steps in the protocol and the resulting certificate is the pair $(e, y)$"
   ]
  },
  {
   "cell_type": "code",
   "execution_count": null,
   "metadata": {},
   "outputs": [],
   "source": [
    "M = \"Hello there\"\n",
    "r = randint(1, N - 1)\n",
    "gamma = g^r\n",
    "e = hash_to_int(H(gamma, M))\n",
    "y = r - e * x\n",
    "(e, y)"
   ]
  },
  {
   "cell_type": "markdown",
   "metadata": {},
   "source": [
    "Now, the verifier can use the certificate to sign the message, and check that it has not been tampered"
   ]
  },
  {
   "cell_type": "code",
   "execution_count": 8,
   "metadata": {},
   "outputs": [
    {
     "data": {
      "text/plain": [
       "True"
      ]
     },
     "execution_count": 8,
     "metadata": {},
     "output_type": "execute_result"
    }
   ],
   "source": [
    "gamma_prime = (g^y) * (beta^e)\n",
    "e == hash_to_int(H(gamma_prime, M))"
   ]
  },
  {
   "cell_type": "markdown",
   "metadata": {},
   "source": [
    "Instead, if the message that we saw was say \"Hello thre\", then we can see that the verifier would no longer accept"
   ]
  },
  {
   "cell_type": "code",
   "execution_count": 9,
   "metadata": {},
   "outputs": [
    {
     "data": {
      "text/plain": [
       "False"
      ]
     },
     "execution_count": 9,
     "metadata": {},
     "output_type": "execute_result"
    }
   ],
   "source": [
    "e == hash_to_int(H(gamma_prime, \"Hello thre\"))"
   ]
  },
  {
   "cell_type": "code",
   "execution_count": null,
   "metadata": {},
   "outputs": [],
   "source": []
  }
 ],
 "metadata": {
  "kernelspec": {
   "display_name": "SageMath 8.9",
   "language": "sage",
   "name": "sagemath"
  },
  "language_info": {
   "codemirror_mode": {
    "name": "ipython",
    "version": 2
   },
   "file_extension": ".py",
   "mimetype": "text/x-python",
   "name": "python",
   "nbconvert_exporter": "python",
   "pygments_lexer": "ipython2",
   "version": "2.7.15"
  }
 },
 "nbformat": 4,
 "nbformat_minor": 2
}
