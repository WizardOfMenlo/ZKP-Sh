{
 "cells": [
  {
   "cell_type": "markdown",
   "metadata": {},
   "source": [
    "# Probablistic Matrix Multiplication Equality\n",
    "\n",
    "This is a simple probabilistic algorithm that checks whether the product of two matrices $B, C$ is equal to some other matrix $A$. The idea is that, by probabilistic checking random vectors, we can easily find out whether they map to the same element, and we can do that faster than doing the matrix multiplication"
   ]
  },
  {
   "cell_type": "code",
   "execution_count": 36,
   "metadata": {},
   "outputs": [],
   "source": [
    "N = 100\n",
    "\n",
    "# We use here some matrices over the rational, but other fields work as well\n",
    "M = MatrixSpace(QQ, N)\n",
    "\n",
    "# The space of vectors over rational with n rows\n",
    "V = MatrixSpace(QQ, N, 1)\n",
    "\n",
    "B = M.random_element()\n",
    "C = M.random_element()\n",
    "A = M.random_element()"
   ]
  },
  {
   "cell_type": "markdown",
   "metadata": {},
   "source": [
    "Now, we can move onto the probabilistic version, we select some vectors over $V$, and check whether it is mapped to the same vectors"
   ]
  },
  {
   "cell_type": "code",
   "execution_count": 37,
   "metadata": {},
   "outputs": [
    {
     "data": {
      "text/plain": [
       "False"
      ]
     },
     "execution_count": 37,
     "metadata": {},
     "output_type": "execute_result"
    }
   ],
   "source": [
    "v = V.random_element()\n",
    "\n",
    "A*v == B*(C * v)"
   ]
  },
  {
   "cell_type": "markdown",
   "metadata": {},
   "source": [
    "## Experiment\n",
    "\n",
    "Now we will run the same experiment in series, with both succeeding and failing input. "
   ]
  },
  {
   "cell_type": "code",
   "execution_count": 38,
   "metadata": {},
   "outputs": [],
   "source": [
    "# The number of experiments we take\n",
    "R = 10000\n",
    "\n",
    "\n",
    "def generate_random(M):\n",
    "    A = M.random_element()\n",
    "    B = M.random_element()\n",
    "    C = M.random_element()\n",
    "    return A, B, C\n",
    "\n",
    "def generate_equal(M):\n",
    "    B = M.random_element()\n",
    "    C = M.random_element()\n",
    "    return B*C, B, C\n",
    "\n",
    "def generate_similar(M):\n",
    "    B = M.random_element()\n",
    "    C = M.random_element()\n",
    "    A = B*C\n",
    "    i, j = randrange(0, N) , randrange(0, N)\n",
    "    A[i, j] = A[i, j] + 1\n",
    "    return A, B, C\n",
    "\n",
    "def equality_test(A, B, C, V):\n",
    "    v = V.random_element()\n",
    "    return A*v == B*(C * v)\n",
    "\n",
    "# F is a field, N is the num of rows, cols of A, B, C. R is total runs, K is repetion of each run\n",
    "\n",
    "def experiment(F, matrix_gen, N, R, K):\n",
    "    success_count = 0\n",
    "    M = MatrixSpace(F, N)\n",
    "    V = MatrixSpace(F, N, 1)\n",
    "    for i in range(0, N):\n",
    "        A, B, C = matrix_gen(M)\n",
    "        # Repeat the experiment multiple times\n",
    "        failure = False\n",
    "        for j in range(0, K):\n",
    "            if not equality_test(A, B, C, V):\n",
    "                failure = True\n",
    "                break\n",
    "        success_count += not failure\n",
    "    return success_count / N\n"
   ]
  },
  {
   "cell_type": "markdown",
   "metadata": {},
   "source": [
    "First of all, we check over the rational the probability that random elements satisfy the test, which should be extremely low"
   ]
  },
  {
   "cell_type": "code",
   "execution_count": 39,
   "metadata": {},
   "outputs": [
    {
     "data": {
      "text/plain": [
       "0"
      ]
     },
     "execution_count": 39,
     "metadata": {},
     "output_type": "execute_result"
    }
   ],
   "source": [
    "experiment(QQ, generate_random, N, R, 1)"
   ]
  },
  {
   "cell_type": "markdown",
   "metadata": {},
   "source": [
    "We do the same for equal matrices, which should yield one, and for similar matrices, which we expect fooling the result quite often"
   ]
  },
  {
   "cell_type": "code",
   "execution_count": 40,
   "metadata": {},
   "outputs": [
    {
     "data": {
      "text/plain": [
       "(1, 21/50)"
      ]
     },
     "execution_count": 40,
     "metadata": {},
     "output_type": "execute_result"
    }
   ],
   "source": [
    "equal = experiment(QQ, generate_equal, N, R, 1)\n",
    "similar = experiment(QQ, generate_similar, N, R, 1)\n",
    "equal, similar"
   ]
  },
  {
   "cell_type": "markdown",
   "metadata": {},
   "source": [
    "A similar experiment run using $\\mathbb{GF}(17)$ yields the following results"
   ]
  },
  {
   "cell_type": "code",
   "execution_count": 41,
   "metadata": {},
   "outputs": [
    {
     "data": {
      "text/plain": [
       "(0, 1, 3/100)"
      ]
     },
     "execution_count": 41,
     "metadata": {},
     "output_type": "execute_result"
    }
   ],
   "source": [
    "random = experiment(GF(17), generate_random, N, R, 1)\n",
    "equal = experiment(GF(17), generate_equal, N, R, 1)\n",
    "similar = experiment(GF(17), generate_similar, N, R, 1)\n",
    "random, equal, similar"
   ]
  },
  {
   "cell_type": "markdown",
   "metadata": {},
   "source": [
    "In particular, we would like to focus on the similar case, as it is the one that \"fools\" the method most often. In fact we can repeat the experiment and reduce the error exponentially (in terms of $k$). In particular we do this for both matrices over rational and over the field $\\mathbb{GF}(17)$"
   ]
  },
  {
   "cell_type": "code",
   "execution_count": 42,
   "metadata": {
    "scrolled": true
   },
   "outputs": [
    {
     "data": {
      "image/png": "[encoded data removed]",
      "text/plain": [
       "Graphics object consisting of 2 graphics primitives"
      ]
     },
     "execution_count": 42,
     "metadata": {},
     "output_type": "execute_result"
    }
   ],
   "source": [
    "plot_rational = list_plot([experiment(QQ, generate_similar, N, R, k) for k in range(0, 10)], color='red')\n",
    "plot_gf = list_plot([experiment(GF(19), generate_similar, N, R, k) for k in range(0, 10)], color='blue')\n",
    "\n",
    "plot_rational + plot_gf"
   ]
  },
  {
   "cell_type": "markdown",
   "metadata": {},
   "source": [
    "Furthermore, we can also 3d plot it with the dimension, and result with the following (interesting?) plot (Which also does not work on Windows)"
   ]
  },
  {
   "cell_type": "code",
   "execution_count": 43,
   "metadata": {},
   "outputs": [
    {
     "data": {
      "text/plain": [
       "Graphics3d Object"
      ]
     },
     "execution_count": 43,
     "metadata": {},
     "output_type": "execute_result"
    }
   ],
   "source": [
    "n = 10\n",
    "m = matrix(RDF, n, [experiment(QQ, generate_similar, N, R, K) for K in [0, 10] for N in [1, n+1]])\n",
    "list_plot3d(m, color='yellow').plot()"
   ]
  },
  {
   "cell_type": "code",
   "execution_count": null,
   "metadata": {},
   "outputs": [],
   "source": []
  }
 ],
 "metadata": {
  "kernelspec": {
   "display_name": "SageMath 8.9",
   "language": "sage",
   "name": "sagemath"
  },
  "language_info": {
   "codemirror_mode": {
    "name": "ipython",
    "version": 2
   },
   "file_extension": ".py",
   "mimetype": "text/x-python",
   "name": "python",
   "nbconvert_exporter": "python",
   "pygments_lexer": "ipython2",
   "version": "2.7.15"
  }
 },
 "nbformat": 4,
 "nbformat_minor": 2
}
