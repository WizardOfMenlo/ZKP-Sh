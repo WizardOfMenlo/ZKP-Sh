{
 "cells": [
  {
   "cell_type": "markdown",
   "metadata": {},
   "source": [
    "# 3 Coloring Zero Knowledge Proof\n",
    "The following shows an interactive proof for Graph 3 Coloring. Recall that a $k$-col for a graph $G = (V, E)$ is a function $\\pi: V \\to \\mathbb{N}_k$ such that $(u, v) \\in E \\implies \\phi(u) \\neq \\phi(v)$. So a mapping to the set $\\{1, \\dots, k \\}$ such that neighbouring vertexes are mapped to different classes.  \n",
    "We make use of commitments, which are a way to ensure that the prover chooses some values that it cannot then arbitrarly change without the verifier knowing. In particular, we use Python's pseudorandom generator for this aim (Note that this is not a particolarly strong commitment scheme, but for illustration purposes it should be fine).\n",
    "The protocol works as following:\n",
    "1. The prover selects a random permutation $\\sigma$ and sets $\\phi \\equiv \\sigma \\circ \\pi$\n",
    "2. It then select random strings $r_i$ and computes the commitments $c_i \\equiv C_{r_i}(\\phi(i))$. The provers sends $c_1, \\dots\\, c_n$ to the verifier\n",
    "3. The verifier selects at random an edge $(u, v)$\n",
    "4. The prover sends the reveal of the commitments of $c_u, c_v$, namely $(r_u, \\phi(u)), (r_v, \\phi(v))$, to the verifier\n",
    "5. Finally, the verifier checks that $\\phi(u) \\neq \\phi(v)$ and that $C_{r_u}(\\phi(u)) = c_u$ and $C_{r_v}(\\phi(v))$. If it holds then it accepts\n",
    "\n",
    "Let us start showing the protocol. In particular, first we define the parameters and the routines that we will be using. We will generate some random tripartite graphs, which almost by definition are 3 colorable. "
   ]
  },
  {
   "cell_type": "code",
   "execution_count": 40,
   "metadata": {},
   "outputs": [],
   "source": [
    "V = 12\n",
    "E = 40\n",
    "\n",
    "def generate_with_three_col(V, E):\n",
    "    # We generate a random three partite\n",
    "    if V % 3 != 0:\n",
    "        return\n",
    "    vertexes = list(range(1, V + 1))\n",
    "    chunk_size = V // 3\n",
    "    # First divide in three sets\n",
    "    partitions = [vertexes[:chunk_size],vertexes[chunk_size:2*chunk_size],vertexes[2*chunk_size:]]\n",
    "    edges = set()\n",
    "    while E > 0:\n",
    "        # Chose two distinct classes\n",
    "        first_class = randrange(0, 3)\n",
    "        second_class = choice(list(set([0, 1, 2]).difference([first_class])))\n",
    "        # Chose two distinct nodes and make an edge\n",
    "        first_node, second_node = randrange(0, chunk_size), randrange(0, chunk_size)\n",
    "        edge = (partitions[first_class][first_node], partitions[second_class][second_node])\n",
    "        if edge in edges:\n",
    "            continue\n",
    "        edges.add(edge)\n",
    "        E = E - 1\n",
    "    \n",
    "    return Graph(list(edges)), tripartite_col(V)\n",
    "\n",
    "def tripartite_col(V):\n",
    "    chunk = V // 3\n",
    "    return lambda x: 1 if x in range(1, chunk + 1) else 2 if x in range(chunk + 1, 2 * chunk + 1) else 3\n",
    "\n",
    "def commit(color, random, N):\n",
    "    # We use a fixed seed to reproduce\n",
    "    set_random_seed(random)\n",
    "    r = current_randstate().python_random(seed=random)\n",
    "    return (r.getrandbits(3 * N), ((random ^ random) % 2) ^ color)\n",
    "    \n",
    "def compose(function, perm):\n",
    "    return lambda i: perm(function(i))\n",
    "\n"
   ]
  },
  {
   "cell_type": "markdown",
   "metadata": {},
   "source": [
    "We generate the graph, and find the coloring that is taken as private to the prover. Then we select a random $\\sigma$ and permute the coloring $\\pi$ with it"
   ]
  },
  {
   "cell_type": "code",
   "execution_count": null,
   "metadata": {},
   "outputs": [],
   "source": [
    "G, pi = generate_with_three_col(V, E)\n",
    "sigma = Permutation(Permutations(3).random_element())\n",
    "phi = compose(pi, sigma)\n",
    "\n",
    "random_strings = [getrandbits(V) for _ in G.vertices()]\n",
    "commitments = map(lambda (a, b): commit(a, b, V), zip([phi(i) for i in G.vertices()], random_strings))\n",
    "\n",
    "G.show()"
   ]
  },
  {
   "cell_type": "markdown",
   "metadata": {},
   "source": [
    "Now the verifier selects a random edge as a challenge"
   ]
  },
  {
   "cell_type": "code",
   "execution_count": 42,
   "metadata": {},
   "outputs": [
    {
     "data": {
      "text/plain": [
       "(3, 6)"
      ]
     },
     "execution_count": 42,
     "metadata": {},
     "output_type": "execute_result"
    }
   ],
   "source": [
    "u, v = G.random_edge(labels = False)\n",
    "(u, v)"
   ]
  },
  {
   "cell_type": "markdown",
   "metadata": {},
   "source": [
    "The prover sends to the verifier the values that it used to commit the selected edges. (The factor of -1 is due to the fact that arrays in python are 0 indexed)"
   ]
  },
  {
   "cell_type": "code",
   "execution_count": 43,
   "metadata": {},
   "outputs": [
    {
     "data": {
      "text/plain": [
       "((2273L, 1), (198L, 2))"
      ]
     },
     "execution_count": 43,
     "metadata": {},
     "output_type": "execute_result"
    }
   ],
   "source": [
    "r_u = random_strings[u - 1]\n",
    "color_u = phi(u)\n",
    "r_v = random_strings[v - 1]\n",
    "color_v = phi(v)\n",
    "\n",
    "(r_u, color_u), (r_v, color_v)"
   ]
  },
  {
   "cell_type": "markdown",
   "metadata": {},
   "source": [
    "Finally, the verifier checks that the values are consistent for 3 coloring, and that the commitments are valid. If so it accepts"
   ]
  },
  {
   "cell_type": "code",
   "execution_count": 44,
   "metadata": {},
   "outputs": [
    {
     "data": {
      "text/plain": [
       "True"
      ]
     },
     "execution_count": 44,
     "metadata": {},
     "output_type": "execute_result"
    }
   ],
   "source": [
    "coloring_valid = color_u != color_v\n",
    "valid_start_commitment = commitments[u - 1] == commit(color_u, r_u, V)\n",
    "valid_end_commitment = commitments[v - 1] == commit(color_v, r_v, V)\n",
    "coloring_valid and valid_start_commitment and valid_end_commitment"
   ]
  },
  {
   "cell_type": "markdown",
   "metadata": {},
   "source": [
    "# Experiment\n",
    "There are essentially three cases that are important for us. First of all, if a graph is 3 colorable and we have such a coloring, then the prover will be able to easily convince the verifier with probability one. \n",
    "Secondly, in case the graphs are selected randomly, we expect the prover to be able to fool the verifier at least $2/3$ of the times (as it can select vertices colors at random). In fact, we show that a simulator can simulate this and succeed that percentage of the times. \n",
    "Thirdly, we can have the prover have an almost perfect three coloring of the graph (e.g. one in which a single edge fails the criteria). In that case, it will fool the verifier with probability $1 - \\frac{1}{|E|}$.\n",
    "\n",
    "First of all, let us model the honest case\n"
   ]
  },
  {
   "cell_type": "code",
   "execution_count": 45,
   "metadata": {},
   "outputs": [],
   "source": [
    "N = 500\n",
    "\n",
    "class HonestVerifier:\n",
    "    def __init__(self, G):\n",
    "        self.G = G\n",
    "        \n",
    "    def challenge(self, commitments):\n",
    "        self.commitments = commitments\n",
    "        self.u, self.v = self.G.random_edge(labels = False)\n",
    "        return (self.u, self.v)\n",
    "    \n",
    "    def verify(self, r_u, color_u, r_v, color_v):\n",
    "        coloring_valid = color_u != color_v\n",
    "        valid_start_commitment = self.commitments[self.u - 1] == commit(color_u, r_u, V)\n",
    "        valid_end_commitment = self.commitments[self.v - 1] == commit(color_v, r_v, V)\n",
    "        return coloring_valid and valid_start_commitment and valid_end_commitment\n",
    "        \n",
    "    \n",
    "def procedure_honest_prover(G, pi, ver):\n",
    "    V = len(G.vertices())\n",
    "    \n",
    "    # First we permute the original coloring\n",
    "    sigma = Permutation(Permutations(3).random_element())\n",
    "    phi = compose(pi, sigma)\n",
    "\n",
    "    # Compute the commitments\n",
    "    random_strings = [getrandbits(V) for _ in G.vertices()]\n",
    "    commitments = map(lambda (a, b): commit(a, b, V), zip([phi(i) for i in G.vertices()], random_strings))\n",
    "    \n",
    "    # Verifier init and challenge\n",
    "    verifier = ver(G)\n",
    "    u, v = verifier.challenge(commitments)\n",
    "    \n",
    "    # Get the values used for committing the values\n",
    "    r_u = random_strings[u - 1]\n",
    "    color_u = phi(u)\n",
    "    r_v = random_strings[v - 1]\n",
    "    color_v = phi(v)\n",
    "    \n",
    "    # Check if the verifier accepts\n",
    "    return verifier.verify(r_u, color_u, r_v, color_v)\n",
    "\n",
    "def experiment_honest(V, E, N):\n",
    "    success_count = 0\n",
    "    for i in range(0, N):\n",
    "        G, pi = generate_with_three_col(V, E)      \n",
    "        success_count += procedure_honest_prover(G, pi, HonestVerifier)\n",
    "    return success_count / N\n",
    "\n"
   ]
  },
  {
   "cell_type": "markdown",
   "metadata": {},
   "source": [
    "As we can see, the honest experiment will succeed with probability 1"
   ]
  },
  {
   "cell_type": "code",
   "execution_count": 46,
   "metadata": {},
   "outputs": [
    {
     "data": {
      "text/plain": [
       "1"
      ]
     },
     "execution_count": 46,
     "metadata": {},
     "output_type": "execute_result"
    }
   ],
   "source": [
    "experiment_honest(V, E, N)"
   ]
  },
  {
   "cell_type": "markdown",
   "metadata": {},
   "source": [
    "Now, we model a dishonest prover, that uses an almost perfect coloring to try to fool the verifier. Note how we also allow repetition in this model, which we will use to reduce the soundness bound exponentially"
   ]
  },
  {
   "cell_type": "code",
   "execution_count": 47,
   "metadata": {},
   "outputs": [],
   "source": [
    "def procedure_dishonest_prover(G, ver):\n",
    "    V = len(G.vertices())\n",
    "    \n",
    "    # We cheat here, using the original coloring, and hoping the verifier does not find out\n",
    "    pi = tripartite_col(V)\n",
    "    \n",
    "    # First we permute the original coloring\n",
    "    sigma = Permutation(Permutations(3).random_element())\n",
    "    phi = compose(pi, sigma)\n",
    "\n",
    "    # Compute the commitments\n",
    "    random_strings = [getrandbits(V) for _ in G.vertices()]\n",
    "    \n",
    "    commitments = map(lambda (a, b): commit(a, b, V), zip([phi(i) for i in G.vertices()], random_strings))\n",
    "    \n",
    "    # Verifier init and challenge\n",
    "    verifier = ver(G)\n",
    "    u, v = verifier.challenge(commitments)\n",
    "    \n",
    "    # Get the values used for committing the values\n",
    "    r_u = random_strings[u - 1]\n",
    "    color_u = phi(u)\n",
    "    r_v = random_strings[v - 1]\n",
    "    color_v = phi(v)\n",
    "    \n",
    "    # Check if the verifier accepts\n",
    "    return verifier.verify(r_u, color_u, r_v, color_v)\n",
    "\n",
    "def almost_3col(V, E):\n",
    "    G, _ = generate_with_three_col(V, E)\n",
    "    G.add_edge(1, 2)\n",
    "    return G\n",
    "\n",
    "def experiment_dishonest(V, E, verifier, procedure, graph_gen, works, N, K):\n",
    "    success_count = 0\n",
    "    for i in range(0, N):\n",
    "        # We generate a graph, and add a single edge in a partition\n",
    "        G = graph_gen(V, E)\n",
    "        failure = False\n",
    "        for j in range(0, K):\n",
    "            if not works(procedure(G, verifier)):\n",
    "                failure = True\n",
    "                break\n",
    "        success_count += not failure\n",
    "    return success_count / N"
   ]
  },
  {
   "cell_type": "markdown",
   "metadata": {},
   "source": [
    "Now, here the success probability of this dishonest prover. We can see check what the difference between that and the predicted fooling gap, namely $1 - \\frac{1}{|E|}$ is"
   ]
  },
  {
   "cell_type": "code",
   "execution_count": 48,
   "metadata": {},
   "outputs": [
    {
     "data": {
      "text/plain": [
       "(487/500, 1/1000)"
      ]
     },
     "execution_count": 48,
     "metadata": {},
     "output_type": "execute_result"
    }
   ],
   "source": [
    "success_prob = experiment_dishonest(V, E, HonestVerifier, procedure_dishonest_prover, almost_3col, lambda x: x, N, 1)\n",
    "expected = 1 - 1/E\n",
    "success_prob, abs(success_prob - expected)"
   ]
  },
  {
   "cell_type": "markdown",
   "metadata": {},
   "source": [
    "Finally, we show a simulator that succeeds with probability 2/3"
   ]
  },
  {
   "cell_type": "code",
   "execution_count": 49,
   "metadata": {},
   "outputs": [],
   "source": [
    "def simulator(G, ver):\n",
    "    V = len(G.vertices())\n",
    "    \n",
    "    # Fake coloring (select each vertex at random)\n",
    "    func = [choice([1,2,3]) for _ in G.vertices()]\n",
    "    \n",
    "    # Compute the commitments\n",
    "    random_strings = [getrandbits(V) for _ in G.vertices()]\n",
    "    \n",
    "    commitments = map(lambda (a, b): commit(a, b, V), zip(func, random_strings))\n",
    "    \n",
    "    # Verifier init and challenge\n",
    "    verifier = ver(G)\n",
    "    u, v = verifier.challenge(commitments)\n",
    "    if not G.has_edge(u,v):\n",
    "        u, v = G.edges()[0]\n",
    "    \n",
    "    if func[u-1] == func[v-1]:\n",
    "        return (False, None)\n",
    "    \n",
    "    r_u = random_strings[u - 1]\n",
    "    color_u = func[u-1]\n",
    "    r_v = random_strings[v - 1]\n",
    "    color_v = func[v-1]\n",
    "    \n",
    "    return (G, commitments, (r_u, color_u, r_v, color_v))"
   ]
  },
  {
   "cell_type": "markdown",
   "metadata": {},
   "source": [
    "We actually use the non 3 colorable graphs that we used in the dishonest verifier case, as this simulator does not take advantage of that in any way. As you can see, the probability hovers around 2/3"
   ]
  },
  {
   "cell_type": "code",
   "execution_count": 50,
   "metadata": {},
   "outputs": [
    {
     "data": {
      "text/plain": [
       "77/125"
      ]
     },
     "execution_count": 50,
     "metadata": {},
     "output_type": "execute_result"
    }
   ],
   "source": [
    "experiment_dishonest(V, E, HonestVerifier, simulator, almost_3col, lambda x: x[0], N, 1)"
   ]
  },
  {
   "cell_type": "markdown",
   "metadata": {},
   "source": [
    "Finally, we show that the soundness gap can be reduced quickly using repetition. Exponentially quickly in fact. Note that the exponential is comparable with the $(1 - \\frac{1}{|E|})^k$. (Also, this might take a while to run)"
   ]
  },
  {
   "cell_type": "code",
   "execution_count": null,
   "metadata": {},
   "outputs": [],
   "source": [
    "list_plot(\n",
    "    [experiment_dishonest(V, E, HonestVerifier, procedure_dishonest_prover, almost_3col, lambda x: x, N, k)\n",
    "     for k in range(0, 8)]\n",
    ")"
   ]
  },
  {
   "cell_type": "code",
   "execution_count": null,
   "metadata": {},
   "outputs": [],
   "source": []
  }
 ],
 "metadata": {
  "kernelspec": {
   "display_name": "SageMath 8.9",
   "language": "sage",
   "name": "sagemath"
  },
  "language_info": {
   "codemirror_mode": {
    "name": "ipython",
    "version": 2
   },
   "file_extension": ".py",
   "mimetype": "text/x-python",
   "name": "python",
   "nbconvert_exporter": "python",
   "pygments_lexer": "ipython2",
   "version": "2.7.15"
  }
 },
 "nbformat": 4,
 "nbformat_minor": 2
}
