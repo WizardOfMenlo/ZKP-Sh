{
 "cells": [
  {
   "cell_type": "markdown",
   "metadata": {},
   "source": [
    "# Discrete Log Proofs\n",
    "In this section we show two simple proof of discrete log. \n",
    "The first one is interactive, and the second is just the result of applying the Fiat Shamir Heuristic to the first. \n",
    "\n",
    "We are working in the $\\mathbb{GF}(N)$ field, where $N$ is a safe prime of the form $2p + 1$ where $p$ is prime. \n",
    "The prover aims to show that he possesses a discrete log base $g$ of $\\beta$, i.e. that he knows a $x$ such that $g^x = \\beta$. \n",
    "\n",
    "\n",
    "## Discrete Log Zero Knowledge Proof\n",
    "\n",
    "The protocol works as follows:\n",
    "1. The prover selects a random $r$, and sends to the verifier $\\gamma \\equiv g^r$\n",
    "2. The verifier selects a random bit $b$ to the prover\n",
    "3. The prover send the exponent $y = r + bx$ to the verifier\n",
    "4. The verifier accepts if $g^y = \\gamma \\beta^b$ else it rejects  \n",
    "\n",
    "We start by selecting the safe prime $N$, and by setting the field and $g$"
   ]
  },
  {
   "cell_type": "code",
   "execution_count": 1,
   "metadata": {},
   "outputs": [],
   "source": [
    "bits = 128\n",
    "\n",
    "def safe_prime(nbits):\n",
    "    while True:\n",
    "        p = random_prime(2^nbits-1, false, 2^(nbits-1))\n",
    "        if ZZ((p+1)/2).is_prime():\n",
    "            return p\n",
    "        \n",
    "N = safe_prime(bits)\n",
    "F = FiniteField(N)\n",
    "g = F.multiplicative_generator()"
   ]
  },
  {
   "cell_type": "markdown",
   "metadata": {},
   "source": [
    "Now, we select a random $x$ and set $\\beta = g^x$. We stress that this $x$ is known only by the prover, while $\\beta$ is public"
   ]
  },
  {
   "cell_type": "code",
   "execution_count": 2,
   "metadata": {},
   "outputs": [
    {
     "data": {
      "text/plain": [
       "4719070848247084655466684514943359979"
      ]
     },
     "execution_count": 2,
     "metadata": {},
     "output_type": "execute_result"
    }
   ],
   "source": [
    "x = randint(1, N - 1)\n",
    "beta = g^x\n",
    "beta"
   ]
  },
  {
   "cell_type": "markdown",
   "metadata": {},
   "source": [
    "Now, the prover executes its first step, sending over $\\gamma$"
   ]
  },
  {
   "cell_type": "code",
   "execution_count": 3,
   "metadata": {},
   "outputs": [
    {
     "data": {
      "text/plain": [
       "88328425571321480018837554020882774546"
      ]
     },
     "execution_count": 3,
     "metadata": {},
     "output_type": "execute_result"
    }
   ],
   "source": [
    "r = randint(1, N - 1)\n",
    "gamma = g^r\n",
    "gamma"
   ]
  },
  {
   "cell_type": "markdown",
   "metadata": {},
   "source": [
    "The verifier selects a random bit, and sends it over"
   ]
  },
  {
   "cell_type": "code",
   "execution_count": 4,
   "metadata": {},
   "outputs": [
    {
     "data": {
      "text/plain": [
       "0"
      ]
     },
     "execution_count": 4,
     "metadata": {},
     "output_type": "execute_result"
    }
   ],
   "source": [
    "b = randint(0, 1)\n",
    "b"
   ]
  },
  {
   "cell_type": "markdown",
   "metadata": {},
   "source": [
    "The prover answers with the exponent $y$"
   ]
  },
  {
   "cell_type": "code",
   "execution_count": 5,
   "metadata": {},
   "outputs": [],
   "source": [
    "y = r + b * x"
   ]
  },
  {
   "cell_type": "markdown",
   "metadata": {},
   "source": [
    "Finally, the verifier check that the equation $g^y = \\gamma \\beta^b$ holds"
   ]
  },
  {
   "cell_type": "code",
   "execution_count": 6,
   "metadata": {},
   "outputs": [
    {
     "data": {
      "text/plain": [
       "True"
      ]
     },
     "execution_count": 6,
     "metadata": {},
     "output_type": "execute_result"
    }
   ],
   "source": [
    "g^y == gamma * beta^b"
   ]
  },
  {
   "cell_type": "markdown",
   "metadata": {},
   "source": [
    "We clear all our variables to make space for the next proof"
   ]
  },
  {
   "cell_type": "code",
   "execution_count": 7,
   "metadata": {},
   "outputs": [],
   "source": [
    "del bits, N, F, g, x, beta, r, gamma, b, y"
   ]
  },
  {
   "cell_type": "markdown",
   "metadata": {},
   "source": [
    "## Discrete Log Non Interactive Zero Knowledge\n",
    "\n",
    "The following works as the above, but it replaces the interaction of the prover with an application of an hash function. \n",
    "In particular:\n",
    "1. The prover selects a random $r$, and computes $\\gamma = g^r$. It then uses $b \\equiv H(g, \\beta, \\gamma)$ as its challenge, computing then $y \\equiv r + b x$ as an exponent. It then produces the certificate $(\\gamma, y)$ and sends it the verifier\n",
    "2. The verifier computes $b \\equiv H(g, \\beta, \\gamma)$, and accepts iff $g^y = \\gamma \\beta^b$\n",
    "\n",
    "\n",
    "We again start by resetting our variables, and starting to find $N$. We also add a SHA1 based hash function to the mix"
   ]
  },
  {
   "cell_type": "code",
   "execution_count": 14,
   "metadata": {},
   "outputs": [],
   "source": [
    "bits = 128\n",
    "\n",
    "import hashlib\n",
    "from sage.crypto.util import ascii_to_bin\n",
    "\n",
    "def H(*args):\n",
    "    hs = hashlib.sha1()\n",
    "    for a in args:\n",
    "        hs.update(str(a).encode('utf-8'))\n",
    "    return hs.hexdigest()\n",
    "\n",
    "def hash_to_int(hs):\n",
    "    return ZZ('0x' + hs)\n",
    "\n",
    "N = safe_prime(bits)\n",
    "F = FiniteField(N)\n",
    "g = F.multiplicative_generator()"
   ]
  },
  {
   "cell_type": "markdown",
   "metadata": {},
   "source": [
    "First of all, we select an $x$ and a $\\beta$ as before. Again we stress $x$ is private"
   ]
  },
  {
   "cell_type": "code",
   "execution_count": 15,
   "metadata": {},
   "outputs": [
    {
     "data": {
      "text/plain": [
       "76976001789226396885927658624966944795"
      ]
     },
     "execution_count": 15,
     "metadata": {},
     "output_type": "execute_result"
    }
   ],
   "source": [
    "x = randint(1, N - 1)\n",
    "beta = g^x\n",
    "beta"
   ]
  },
  {
   "cell_type": "markdown",
   "metadata": {},
   "source": [
    "Now the verifier selects a random $r$, and computes $\\gamma$. This time it uses the hash of the public (or soon to be) parameters as its challenge. It then proceeds as before. The pair $(\\gamma, y)$ works as the certificate that any verifier can check"
   ]
  },
  {
   "cell_type": "code",
   "execution_count": 16,
   "metadata": {},
   "outputs": [
    {
     "data": {
      "text/plain": [
       "(154156205304524633440125276914761753325,\n",
       " 25775742675273320056257204084260335589183519222743139434370909864504217144077614762762)"
      ]
     },
     "execution_count": 16,
     "metadata": {},
     "output_type": "execute_result"
    }
   ],
   "source": [
    "r = randint(1, N - 1)\n",
    "gamma = g^r\n",
    "b_prover = hash_to_int(H(g, beta, gamma))\n",
    "y = r + b_prover * x\n",
    "\n",
    "(gamma, y)"
   ]
  },
  {
   "cell_type": "markdown",
   "metadata": {},
   "source": [
    "Finally, the verifier (or any verifier for that matter) can compute the challenge $b$ from the public parameters and the certificate, it then can check that the equation $g^y = \\gamma \\beta^b$ holds"
   ]
  },
  {
   "cell_type": "code",
   "execution_count": 17,
   "metadata": {},
   "outputs": [
    {
     "data": {
      "text/plain": [
       "True"
      ]
     },
     "execution_count": 17,
     "metadata": {},
     "output_type": "execute_result"
    }
   ],
   "source": [
    "b_verifier = hash_to_int(H(g, beta, gamma))\n",
    "g^y == gamma * beta^b_verifier"
   ]
  },
  {
   "cell_type": "code",
   "execution_count": null,
   "metadata": {},
   "outputs": [],
   "source": []
  }
 ],
 "metadata": {
  "kernelspec": {
   "display_name": "SageMath 9.0",
   "language": "sage",
   "name": "sagemath"
  },
  "language_info": {
   "codemirror_mode": {
    "name": "ipython",
    "version": 3
   },
   "file_extension": ".py",
   "mimetype": "text/x-python",
   "name": "python",
   "nbconvert_exporter": "python",
   "pygments_lexer": "ipython3",
   "version": "3.7.3"
  }
 },
 "nbformat": 4,
 "nbformat_minor": 2
}
