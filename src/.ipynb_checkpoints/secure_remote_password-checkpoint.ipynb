{
 "cells": [
  {
   "cell_type": "markdown",
   "metadata": {},
   "source": [
    "# Secure Remote Password\n",
    "\n",
    "We show here a naive implentation of the SRP protocol, a protocol that allows an user to login into a site without having the site know its password. The protocol consists of three phases, the preliminary phase, the registration phase and the logging phase. In the preliminary both parties agree to an Id $I$ for the user, a safe prime $N$ and a generator $g$ for the multiplicative group $(\\mathbb{Z}_N)^\\times$. For added security they also select a $k \\in \\mathbb(GF)(N)$.\n",
    "\n",
    "Then, the registration phase works as follows:\n",
    "1. The user selects a password $p$, and a random salt $s$\n",
    "2. It computes $x \\equiv H(s, p)$ and $v \\equiv g^x$\n",
    "3. It then sends $(s, v)$ to the host, which stores them with the identifier $I$\n",
    "\n",
    "On authentication, the procedure is as follows:\n",
    "1. The user selects a random $a$, computes $A \\equiv g^a$ and sends $(I, A)$ to the host\n",
    "2. The host lookups using $I$ the $(s, v)$ previosly stored, select a random $b$ and computes $B \\equiv kv + g^b$. It then sends $(s, B)$ to the user\n",
    "3. Both parties compute $u = H(A, B)$\n",
    "4. The user computes $x \\equiv H(s, p)$, and from it the session key $S \\equiv (B - kg^x)^{a + ux}$. From it it can compute a key $K = H(S)$\n",
    "5. The host computes $S \\equiv (Av^u)^b$, and from it the key $K = H(S)$\n",
    "\n",
    "If all steps are executed correctly, the $K$ that both parties receive will be equal. Furthermore, the security of the scheme is due to the fact that the discrete log is hard to invert in the group in question.  \n",
    "First of all, we start by agreeing on our $N$, for which we use a safe prime i.e. a prime of the form $2p + 1$ where $p$ is prime. Then we select some generator and some random element $k$, plus a username that will be \"Bob\" for our purposes"
   ]
  },
  {
   "cell_type": "code",
   "execution_count": 3,
   "metadata": {},
   "outputs": [],
   "source": [
    "bits = 128\n",
    "\n",
    "def safe_prime(nbits):\n",
    "    while True:\n",
    "        p = random_prime(2^nbits-1, false, 2^(nbits-1))\n",
    "        if ZZ((p+1)/2).is_prime():\n",
    "            return p\n",
    "        \n",
    "N = safe_prime(bits)\n",
    "F = FiniteField(N)\n",
    "k = F.random_element()\n",
    "g = F.multiplicative_generator()\n",
    "I = 'Bob'\n",
    "\n",
    "import hashlib\n",
    "from sage.crypto.util import ascii_to_bin\n",
    "\n",
    "def H(*args):\n",
    "    hs = hashlib.sha1()\n",
    "    for a in args:\n",
    "        hs.update(str(a).encode('utf-8'))\n",
    "    return hs.hexdigest()\n",
    "\n",
    "def hash_to_int(hs):\n",
    "    return ZZ('0x' + hs)"
   ]
  },
  {
   "cell_type": "markdown",
   "metadata": {},
   "source": [
    "Here is the registration step. We select a password of 128 bits, and some smaller salt. $(s, v)$ are the values that then the host receives, and we assume that he can access them at will"
   ]
  },
  {
   "cell_type": "code",
   "execution_count": 4,
   "metadata": {},
   "outputs": [
    {
     "data": {
      "text/plain": [
       "(4224478324, 15998029881284361840898504822906019728)"
      ]
     },
     "execution_count": 4,
     "metadata": {},
     "output_type": "execute_result"
    }
   ],
   "source": [
    "p = getrandbits(bits)\n",
    "s = getrandbits(32)\n",
    "x = hash_to_int(H(s, p))\n",
    "v = g^x\n",
    "(s, v)"
   ]
  },
  {
   "cell_type": "markdown",
   "metadata": {},
   "source": [
    "Now, we are in the auth phase. The user computes its random $A$ and sends it to host"
   ]
  },
  {
   "cell_type": "code",
   "execution_count": 5,
   "metadata": {},
   "outputs": [
    {
     "data": {
      "text/plain": [
       "('Bob', 145046708439060426448470308290388495506)"
      ]
     },
     "execution_count": 5,
     "metadata": {},
     "output_type": "execute_result"
    }
   ],
   "source": [
    "a = getrandbits(bits)\n",
    "A = g^a\n",
    "(I, A)"
   ]
  },
  {
   "cell_type": "markdown",
   "metadata": {},
   "source": [
    "The host computes its $B$, lookups $(s, v)$ and sends it to the user"
   ]
  },
  {
   "cell_type": "code",
   "execution_count": 6,
   "metadata": {},
   "outputs": [
    {
     "data": {
      "text/plain": [
       "(4224478324, 98658178941345071539109092668186505641)"
      ]
     },
     "execution_count": 6,
     "metadata": {},
     "output_type": "execute_result"
    }
   ],
   "source": [
    "b = getrandbits(bits)\n",
    "B = k * v + g^b\n",
    "(s, B)"
   ]
  },
  {
   "cell_type": "markdown",
   "metadata": {},
   "source": [
    "Both parties now compute the hash $u$ (Note that since here we do not really have separation of variables we do it in one line for convinience)"
   ]
  },
  {
   "cell_type": "code",
   "execution_count": 7,
   "metadata": {},
   "outputs": [],
   "source": [
    "u = hash_to_int(H(A, B))"
   ]
  },
  {
   "cell_type": "markdown",
   "metadata": {},
   "source": [
    "Now the user computes its key using the method specified above"
   ]
  },
  {
   "cell_type": "code",
   "execution_count": 9,
   "metadata": {},
   "outputs": [
    {
     "data": {
      "text/plain": [
       "'bb6f98ebae927d10d8dc270ac5165605b6a31ff6'"
      ]
     },
     "execution_count": 9,
     "metadata": {},
     "output_type": "execute_result"
    }
   ],
   "source": [
    "x = hash_to_int(H(s, p))\n",
    "S_user = (B - k*g^x)^(a + u*x)\n",
    "K_user = H(S_user)\n",
    "K_user"
   ]
  },
  {
   "cell_type": "markdown",
   "metadata": {},
   "source": [
    "The host does as well"
   ]
  },
  {
   "cell_type": "code",
   "execution_count": 10,
   "metadata": {},
   "outputs": [
    {
     "data": {
      "text/plain": [
       "'bb6f98ebae927d10d8dc270ac5165605b6a31ff6'"
      ]
     },
     "execution_count": 10,
     "metadata": {},
     "output_type": "execute_result"
    }
   ],
   "source": [
    "S_host = (A * v^u)^b\n",
    "K_host = H(S_host)\n",
    "K_host"
   ]
  },
  {
   "cell_type": "markdown",
   "metadata": {},
   "source": [
    "Finally, all that is left is to show that the keys are equal, that we can see below"
   ]
  },
  {
   "cell_type": "code",
   "execution_count": 11,
   "metadata": {},
   "outputs": [
    {
     "data": {
      "text/plain": [
       "True"
      ]
     },
     "execution_count": 11,
     "metadata": {},
     "output_type": "execute_result"
    }
   ],
   "source": [
    "K_user == K_host"
   ]
  },
  {
   "cell_type": "code",
   "execution_count": null,
   "metadata": {},
   "outputs": [],
   "source": []
  }
 ],
 "metadata": {
  "kernelspec": {
   "display_name": "SageMath 9.0",
   "language": "sage",
   "name": "sagemath"
  },
  "language_info": {
   "codemirror_mode": {
    "name": "ipython",
    "version": 3
   },
   "file_extension": ".py",
   "mimetype": "text/x-python",
   "name": "python",
   "nbconvert_exporter": "python",
   "pygments_lexer": "ipython3",
   "version": "3.7.3"
  }
 },
 "nbformat": 4,
 "nbformat_minor": 2
}
